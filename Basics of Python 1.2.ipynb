{
 "cells": [
  {
   "cell_type": "markdown",
   "id": "dbec7090",
   "metadata": {},
   "source": [
    "#                          DataFrame"
   ]
  },
  {
   "cell_type": "code",
   "execution_count": 130,
   "id": "227605b3",
   "metadata": {},
   "outputs": [],
   "source": [
    "import pandas as pd\n",
    "import numpy as np"
   ]
  },
  {
   "cell_type": "code",
   "execution_count": 131,
   "id": "f29695ce",
   "metadata": {},
   "outputs": [],
   "source": [
    "DataF={\"Types\":[\"Care\",\"Bike\",\"Bus\",\"Truck\"],\n",
    "       \"Cost\":[100,150,300,600]}"
   ]
  },
  {
   "cell_type": "code",
   "execution_count": 132,
   "id": "b8122db8",
   "metadata": {},
   "outputs": [
    {
     "data": {
      "text/plain": [
       "{'Types': ['Care', 'Bike', 'Bus', 'Truck'], 'Cost': [100, 150, 300, 600]}"
      ]
     },
     "execution_count": 132,
     "metadata": {},
     "output_type": "execute_result"
    }
   ],
   "source": [
    "DataF"
   ]
  },
  {
   "cell_type": "code",
   "execution_count": 133,
   "id": "29d55ef9",
   "metadata": {},
   "outputs": [
    {
     "data": {
      "text/plain": [
       "dict"
      ]
     },
     "execution_count": 133,
     "metadata": {},
     "output_type": "execute_result"
    }
   ],
   "source": [
    "type(DataF)"
   ]
  },
  {
   "cell_type": "code",
   "execution_count": 134,
   "id": "202f1d5f",
   "metadata": {},
   "outputs": [],
   "source": [
    "dp=pd.DataFrame(DataF)"
   ]
  },
  {
   "cell_type": "code",
   "execution_count": 135,
   "id": "4bb537ce",
   "metadata": {},
   "outputs": [
    {
     "data": {
      "text/html": [
       "<div>\n",
       "<style scoped>\n",
       "    .dataframe tbody tr th:only-of-type {\n",
       "        vertical-align: middle;\n",
       "    }\n",
       "\n",
       "    .dataframe tbody tr th {\n",
       "        vertical-align: top;\n",
       "    }\n",
       "\n",
       "    .dataframe thead th {\n",
       "        text-align: right;\n",
       "    }\n",
       "</style>\n",
       "<table border=\"1\" class=\"dataframe\">\n",
       "  <thead>\n",
       "    <tr style=\"text-align: right;\">\n",
       "      <th></th>\n",
       "      <th>Types</th>\n",
       "      <th>Cost</th>\n",
       "    </tr>\n",
       "  </thead>\n",
       "  <tbody>\n",
       "    <tr>\n",
       "      <th>0</th>\n",
       "      <td>Care</td>\n",
       "      <td>100</td>\n",
       "    </tr>\n",
       "    <tr>\n",
       "      <th>1</th>\n",
       "      <td>Bike</td>\n",
       "      <td>150</td>\n",
       "    </tr>\n",
       "    <tr>\n",
       "      <th>2</th>\n",
       "      <td>Bus</td>\n",
       "      <td>300</td>\n",
       "    </tr>\n",
       "    <tr>\n",
       "      <th>3</th>\n",
       "      <td>Truck</td>\n",
       "      <td>600</td>\n",
       "    </tr>\n",
       "  </tbody>\n",
       "</table>\n",
       "</div>"
      ],
      "text/plain": [
       "   Types  Cost\n",
       "0   Care   100\n",
       "1   Bike   150\n",
       "2    Bus   300\n",
       "3  Truck   600"
      ]
     },
     "execution_count": 135,
     "metadata": {},
     "output_type": "execute_result"
    }
   ],
   "source": [
    "dp"
   ]
  },
  {
   "cell_type": "code",
   "execution_count": 136,
   "id": "0b723b31",
   "metadata": {},
   "outputs": [],
   "source": [
    "dp_Flip=dp.T"
   ]
  },
  {
   "cell_type": "code",
   "execution_count": 137,
   "id": "e4f5f96a",
   "metadata": {},
   "outputs": [
    {
     "data": {
      "text/html": [
       "<div>\n",
       "<style scoped>\n",
       "    .dataframe tbody tr th:only-of-type {\n",
       "        vertical-align: middle;\n",
       "    }\n",
       "\n",
       "    .dataframe tbody tr th {\n",
       "        vertical-align: top;\n",
       "    }\n",
       "\n",
       "    .dataframe thead th {\n",
       "        text-align: right;\n",
       "    }\n",
       "</style>\n",
       "<table border=\"1\" class=\"dataframe\">\n",
       "  <thead>\n",
       "    <tr style=\"text-align: right;\">\n",
       "      <th></th>\n",
       "      <th>0</th>\n",
       "      <th>1</th>\n",
       "      <th>2</th>\n",
       "      <th>3</th>\n",
       "    </tr>\n",
       "  </thead>\n",
       "  <tbody>\n",
       "    <tr>\n",
       "      <th>Types</th>\n",
       "      <td>Care</td>\n",
       "      <td>Bike</td>\n",
       "      <td>Bus</td>\n",
       "      <td>Truck</td>\n",
       "    </tr>\n",
       "    <tr>\n",
       "      <th>Cost</th>\n",
       "      <td>100</td>\n",
       "      <td>150</td>\n",
       "      <td>300</td>\n",
       "      <td>600</td>\n",
       "    </tr>\n",
       "  </tbody>\n",
       "</table>\n",
       "</div>"
      ],
      "text/plain": [
       "          0     1    2      3\n",
       "Types  Care  Bike  Bus  Truck\n",
       "Cost    100   150  300    600"
      ]
     },
     "execution_count": 137,
     "metadata": {},
     "output_type": "execute_result"
    }
   ],
   "source": [
    "dp_Flip"
   ]
  },
  {
   "cell_type": "code",
   "execution_count": 138,
   "id": "5d327123",
   "metadata": {},
   "outputs": [
    {
     "ename": "TypeError",
     "evalue": "unhashable type: 'Series'",
     "output_type": "error",
     "traceback": [
      "\u001b[1;31m---------------------------------------------------------------------------\u001b[0m",
      "\u001b[1;31mTypeError\u001b[0m                                 Traceback (most recent call last)",
      "Input \u001b[1;32mIn [138]\u001b[0m, in \u001b[0;36m<cell line: 1>\u001b[1;34m()\u001b[0m\n\u001b[1;32m----> 1\u001b[0m dp_Flip\u001b[38;5;241m=\u001b[39mdp_Flip\u001b[38;5;241m.\u001b[39mrename(columns \u001b[38;5;241m=\u001b[39m{ dp_Flip[\u001b[38;5;241m0\u001b[39m]:\u001b[38;5;124m\"\u001b[39m\u001b[38;5;124mOption 1\u001b[39m\u001b[38;5;124m\"\u001b[39m})\n",
      "\u001b[1;31mTypeError\u001b[0m: unhashable type: 'Series'"
     ]
    }
   ],
   "source": [
    "dp_Flip=dp_Flip.rename(columns ={ dp_Flip[0]:\"Option 1\"})"
   ]
  },
  {
   "cell_type": "code",
   "execution_count": null,
   "id": "289fb496",
   "metadata": {},
   "outputs": [],
   "source": [
    "print(\"Name Is :\" + \"Mukund\")"
   ]
  },
  {
   "cell_type": "markdown",
   "id": "c59e16ec",
   "metadata": {},
   "source": [
    "# The Python Operators\n",
    "# 1. Arithmetic\n",
    "# 2. Relational \n",
    "# 3. Logical\n",
    "# 4. Membership\n",
    "# 5. Bitwsie\n",
    "# 6. Assigment"
   ]
  },
  {
   "cell_type": "markdown",
   "id": "1e340004",
   "metadata": {},
   "source": [
    "# ********************************"
   ]
  },
  {
   "cell_type": "markdown",
   "id": "b418ecdf",
   "metadata": {},
   "source": [
    "# 1. Arithmetic Operators"
   ]
  },
  {
   "cell_type": "markdown",
   "id": "8ff22922",
   "metadata": {},
   "source": [
    "\n",
    "# g. Exponentiation"
   ]
  },
  {
   "cell_type": "markdown",
   "id": "e9749974",
   "metadata": {},
   "source": [
    "# a. Addition"
   ]
  },
  {
   "cell_type": "code",
   "execution_count": null,
   "id": "06fcf1f9",
   "metadata": {},
   "outputs": [],
   "source": [
    "x=10\n",
    "y=2\n",
    "z=x+y\n",
    "print(z)\n",
    "type(z)"
   ]
  },
  {
   "cell_type": "markdown",
   "id": "698d0a42",
   "metadata": {},
   "source": [
    "# b. Subtraction"
   ]
  },
  {
   "cell_type": "code",
   "execution_count": null,
   "id": "eac61476",
   "metadata": {},
   "outputs": [],
   "source": [
    "x=10\n",
    "y=2\n",
    "z=x-y\n",
    "print(z)\n",
    "type(z)"
   ]
  },
  {
   "cell_type": "markdown",
   "id": "98059646",
   "metadata": {},
   "source": [
    "# c. Multiplication"
   ]
  },
  {
   "cell_type": "code",
   "execution_count": null,
   "id": "f4fdd3dd",
   "metadata": {},
   "outputs": [],
   "source": [
    "x=10\n",
    "y=2\n",
    "z=x*y\n",
    "print(z)\n",
    "type(z)"
   ]
  },
  {
   "cell_type": "markdown",
   "id": "d3daddeb",
   "metadata": {},
   "source": [
    "# d. Division"
   ]
  },
  {
   "cell_type": "code",
   "execution_count": null,
   "id": "0c878d86",
   "metadata": {},
   "outputs": [],
   "source": [
    "x=10\n",
    "y=2\n",
    "z=x/y\n",
    "print(z)\n",
    "type(z)"
   ]
  },
  {
   "cell_type": "markdown",
   "id": "92d8738e",
   "metadata": {},
   "source": [
    "# e. Modulus"
   ]
  },
  {
   "cell_type": "code",
   "execution_count": null,
   "id": "dc800a54",
   "metadata": {},
   "outputs": [],
   "source": [
    "x=28\n",
    "y=4\n",
    "z=x%y\n",
    "print(z)\n",
    "type(z)"
   ]
  },
  {
   "cell_type": "code",
   "execution_count": null,
   "id": "e27406f6",
   "metadata": {},
   "outputs": [],
   "source": [
    "x=5\n",
    "y=428\n",
    "z=x%y\n",
    "print(z)\n",
    "type(z)"
   ]
  },
  {
   "cell_type": "markdown",
   "id": "e622881b",
   "metadata": {},
   "source": [
    "#### Modulus ->Numerator ->Denominator it returns remainder else it returns x"
   ]
  },
  {
   "cell_type": "markdown",
   "id": "5eaf6482",
   "metadata": {},
   "source": [
    "# f. Floor Division"
   ]
  },
  {
   "cell_type": "code",
   "execution_count": null,
   "id": "1ef5c0b3",
   "metadata": {},
   "outputs": [],
   "source": [
    "x=27\n",
    "y=4\n",
    "z=x//y\n",
    "print(z)\n",
    "type(z)"
   ]
  },
  {
   "cell_type": "markdown",
   "id": "2a814d6c",
   "metadata": {},
   "source": [
    "#### FLoor Division ->Numerator ->Denominator it returns Quotient else it return 0"
   ]
  },
  {
   "cell_type": "code",
   "execution_count": null,
   "id": "92c27122",
   "metadata": {},
   "outputs": [],
   "source": [
    "x=3\n",
    "y=2\n",
    "z=x**y\n",
    "print(z)\n",
    "type(z)"
   ]
  },
  {
   "cell_type": "code",
   "execution_count": null,
   "id": "6d95cfbf",
   "metadata": {},
   "outputs": [],
   "source": [
    "Name=\"Mukund\"\n",
    "Age=\" 27\"\n",
    "NameAge=Name+Age"
   ]
  },
  {
   "cell_type": "code",
   "execution_count": null,
   "id": "6b997608",
   "metadata": {},
   "outputs": [],
   "source": [
    "NameAge"
   ]
  },
  {
   "cell_type": "code",
   "execution_count": null,
   "id": "96d0703c",
   "metadata": {},
   "outputs": [],
   "source": [
    "Name=\"Mukund\"\n",
    "Age=\" 27\"\n",
    "NameAge=Name-Age\n",
    "NameAge\n"
   ]
  },
  {
   "cell_type": "code",
   "execution_count": null,
   "id": "6fc93ee8",
   "metadata": {},
   "outputs": [],
   "source": [
    "Name=\"Mukund \"\n",
    "Age=2\n",
    "NameAge=Name*Age\n",
    "NameAge\n"
   ]
  },
  {
   "cell_type": "code",
   "execution_count": null,
   "id": "6346e7f9",
   "metadata": {},
   "outputs": [],
   "source": [
    "Name=\"Mukund \"\n",
    "Age=\"27\"\n",
    "NameAge=Name/Age\n",
    "NameAge\n"
   ]
  },
  {
   "cell_type": "markdown",
   "id": "cbf6c098",
   "metadata": {},
   "source": [
    "## Relational Operatos"
   ]
  },
  {
   "cell_type": "code",
   "execution_count": null,
   "id": "31bde6a4",
   "metadata": {},
   "outputs": [],
   "source": [
    "x=1\n",
    "y=8\n",
    "x>y"
   ]
  },
  {
   "cell_type": "code",
   "execution_count": null,
   "id": "5bf1a81d",
   "metadata": {},
   "outputs": [],
   "source": [
    "x=1\n",
    "y=8\n",
    "x==y"
   ]
  },
  {
   "cell_type": "code",
   "execution_count": null,
   "id": "3508f440",
   "metadata": {},
   "outputs": [],
   "source": [
    "x=1\n",
    "y=8\n",
    "x!=y"
   ]
  },
  {
   "cell_type": "code",
   "execution_count": null,
   "id": "d2675f8e",
   "metadata": {},
   "outputs": [],
   "source": [
    "x=1\n",
    "y=8\n",
    "x<=y"
   ]
  },
  {
   "cell_type": "code",
   "execution_count": null,
   "id": "473a9dbd",
   "metadata": {},
   "outputs": [],
   "source": [
    "x=1\n",
    "y=8\n",
    "x>=y"
   ]
  },
  {
   "cell_type": "code",
   "execution_count": null,
   "id": "ed880edb",
   "metadata": {},
   "outputs": [],
   "source": [
    "x=1\n",
    "y=8\n",
    "x>y"
   ]
  },
  {
   "cell_type": "code",
   "execution_count": null,
   "id": "77cc6e92",
   "metadata": {},
   "outputs": [],
   "source": [
    "x=1\n",
    "y=8\n",
    "x<y"
   ]
  },
  {
   "cell_type": "markdown",
   "id": "87728468",
   "metadata": {},
   "source": [
    "# Logical Operators"
   ]
  },
  {
   "cell_type": "code",
   "execution_count": null,
   "id": "92ac56f1",
   "metadata": {},
   "outputs": [],
   "source": [
    "x=False\n",
    "y=True\n",
    "z=True"
   ]
  },
  {
   "cell_type": "code",
   "execution_count": null,
   "id": "08a001eb",
   "metadata": {},
   "outputs": [],
   "source": [
    "x and y"
   ]
  },
  {
   "cell_type": "code",
   "execution_count": null,
   "id": "78f92a07",
   "metadata": {},
   "outputs": [],
   "source": [
    "x or y"
   ]
  },
  {
   "cell_type": "code",
   "execution_count": 139,
   "id": "e90fb351",
   "metadata": {},
   "outputs": [
    {
     "data": {
      "text/plain": [
       "True"
      ]
     },
     "execution_count": 139,
     "metadata": {},
     "output_type": "execute_result"
    }
   ],
   "source": [
    "x or z"
   ]
  },
  {
   "cell_type": "code",
   "execution_count": 143,
   "id": "683298b3",
   "metadata": {},
   "outputs": [
    {
     "data": {
      "text/plain": [
       "False"
      ]
     },
     "execution_count": 143,
     "metadata": {},
     "output_type": "execute_result"
    }
   ],
   "source": [
    "y and not z"
   ]
  },
  {
   "cell_type": "markdown",
   "id": "5692a3f9",
   "metadata": {},
   "source": [
    "# Membership Operators"
   ]
  },
  {
   "cell_type": "code",
   "execution_count": null,
   "id": "53b49bfd",
   "metadata": {},
   "outputs": [],
   "source": []
  },
  {
   "cell_type": "code",
   "execution_count": null,
   "id": "ca9e47a7",
   "metadata": {},
   "outputs": [],
   "source": []
  },
  {
   "cell_type": "code",
   "execution_count": null,
   "id": "b9d09af4",
   "metadata": {},
   "outputs": [],
   "source": [
    "## Runtime Variable assignment"
   ]
  },
  {
   "cell_type": "markdown",
   "id": "4ef8e319",
   "metadata": {},
   "source": [
    "# Assignment Opertors"
   ]
  },
  {
   "cell_type": "code",
   "execution_count": 145,
   "id": "e9ff4acd",
   "metadata": {},
   "outputs": [
    {
     "data": {
      "text/plain": [
       "10"
      ]
     },
     "execution_count": 145,
     "metadata": {},
     "output_type": "execute_result"
    }
   ],
   "source": [
    "a=8\n",
    "b=2\n",
    "a=a+b\n",
    "a"
   ]
  },
  {
   "cell_type": "code",
   "execution_count": 146,
   "id": "bbd80494",
   "metadata": {},
   "outputs": [
    {
     "data": {
      "text/plain": [
       "10"
      ]
     },
     "execution_count": 146,
     "metadata": {},
     "output_type": "execute_result"
    }
   ],
   "source": [
    "a=8\n",
    "b=2\n",
    "a+=b\n",
    "a"
   ]
  },
  {
   "cell_type": "code",
   "execution_count": 147,
   "id": "19a226a1",
   "metadata": {},
   "outputs": [
    {
     "data": {
      "text/plain": [
       "6"
      ]
     },
     "execution_count": 147,
     "metadata": {},
     "output_type": "execute_result"
    }
   ],
   "source": [
    "a=8\n",
    "b=2\n",
    "a-=b\n",
    "a"
   ]
  },
  {
   "cell_type": "code",
   "execution_count": 148,
   "id": "24f95fc4",
   "metadata": {},
   "outputs": [
    {
     "data": {
      "text/plain": [
       "16"
      ]
     },
     "execution_count": 148,
     "metadata": {},
     "output_type": "execute_result"
    }
   ],
   "source": [
    "a=8\n",
    "b=2\n",
    "a*=b\n",
    "a"
   ]
  },
  {
   "cell_type": "code",
   "execution_count": 149,
   "id": "c8e6fa56",
   "metadata": {},
   "outputs": [
    {
     "data": {
      "text/plain": [
       "0"
      ]
     },
     "execution_count": 149,
     "metadata": {},
     "output_type": "execute_result"
    }
   ],
   "source": [
    "a=8\n",
    "b=2\n",
    "a%=b\n",
    "a"
   ]
  },
  {
   "cell_type": "code",
   "execution_count": 150,
   "id": "2a181ab1",
   "metadata": {},
   "outputs": [
    {
     "data": {
      "text/plain": [
       "64"
      ]
     },
     "execution_count": 150,
     "metadata": {},
     "output_type": "execute_result"
    }
   ],
   "source": [
    "a=8\n",
    "b=2\n",
    "a**=b\n",
    "a"
   ]
  },
  {
   "cell_type": "code",
   "execution_count": 151,
   "id": "ed1b2d49",
   "metadata": {},
   "outputs": [
    {
     "data": {
      "text/plain": [
       "4"
      ]
     },
     "execution_count": 151,
     "metadata": {},
     "output_type": "execute_result"
    }
   ],
   "source": [
    "a=8\n",
    "b=2\n",
    "a//=b\n",
    "a"
   ]
  },
  {
   "cell_type": "markdown",
   "id": "75acc56f",
   "metadata": {},
   "source": [
    "### Conditional Statments"
   ]
  },
  {
   "cell_type": "code",
   "execution_count": 153,
   "id": "40474f44",
   "metadata": {},
   "outputs": [
    {
     "name": "stdout",
     "output_type": "stream",
     "text": [
      "5 Is Greter Than Zero\n"
     ]
    }
   ],
   "source": [
    "num=5\n",
    "if num>0:\n",
    "    print(num,\"Is Greter Than Zero\")"
   ]
  },
  {
   "cell_type": "code",
   "execution_count": 154,
   "id": "e113f85b",
   "metadata": {},
   "outputs": [],
   "source": [
    "num=5\n",
    "if num<0:\n",
    "    print(num,\"Is Greter Than Zero\")"
   ]
  },
  {
   "cell_type": "code",
   "execution_count": 157,
   "id": "4d2a164f",
   "metadata": {},
   "outputs": [
    {
     "name": "stdout",
     "output_type": "stream",
     "text": [
      "5 Is Greter Than Zero\n"
     ]
    }
   ],
   "source": [
    "num=5\n",
    "if num<0:\n",
    "    print(num,\"Is Greter less than Zero\")\n",
    "else:\n",
    "     print(num,\"Is Greter Than Zero\")"
   ]
  },
  {
   "cell_type": "code",
   "execution_count": 158,
   "id": "c528119a",
   "metadata": {},
   "outputs": [
    {
     "name": "stdout",
     "output_type": "stream",
     "text": [
      "-5 Is Greter less than Zero\n"
     ]
    }
   ],
   "source": [
    "num=-5\n",
    "if num<0:\n",
    "    print(num,\"Is Greter less than Zero\")\n",
    "else:\n",
    "     print(num,\"Is Greter Than Zero\")"
   ]
  },
  {
   "cell_type": "code",
   "execution_count": 159,
   "id": "32fe5a1e",
   "metadata": {},
   "outputs": [
    {
     "name": "stdout",
     "output_type": "stream",
     "text": [
      "-5 Is Greter less than Zero\n"
     ]
    }
   ],
   "source": [
    "num=-5\n",
    "if num<0:\n",
    "    print(num,\"Is Greter less than Zero\")\n",
    "else:\n",
    "     print(num,\"Is Greter Than Zero\")"
   ]
  },
  {
   "cell_type": "code",
   "execution_count": 164,
   "id": "41388cf3",
   "metadata": {},
   "outputs": [
    {
     "name": "stdout",
     "output_type": "stream",
     "text": [
      "Enter Age25\n",
      "Bus Fare is 30\n"
     ]
    }
   ],
   "source": [
    "age=int(input(\"Enter Age\"))\n",
    "if(0<age<3):\n",
    "    print(\"No fares for Age group 0 - 3\")\n",
    "elif(3<age<10):\n",
    "    print(\"Bus Fare is 10\") \n",
    "elif(10<age<20):\n",
    "    print(\"Bus Fare is 20\")  \n",
    "else:\n",
    "    print(\"Bus Fare is 30\")"
   ]
  },
  {
   "cell_type": "markdown",
   "id": "2fdc6e1d",
   "metadata": {},
   "source": [
    "# \"eval\" takes integer or float"
   ]
  },
  {
   "cell_type": "code",
   "execution_count": 166,
   "id": "ac34015d",
   "metadata": {},
   "outputs": [
    {
     "name": "stdout",
     "output_type": "stream",
     "text": [
      "Enter Age3.3\n",
      "Bus Fare is 10\n"
     ]
    }
   ],
   "source": [
    "age=eval(input(\"Enter Age\"))\n",
    "if(0<age<3):\n",
    "    print(\"No fares for Age group 0 - 3\")\n",
    "elif(3<age<10):\n",
    "    print(\"Bus Fare is 10\") \n",
    "elif(10<age<20):\n",
    "    print(\"Bus Fare is 20\")  \n",
    "else:\n",
    "    print(\"Bus Fare is 30\")"
   ]
  },
  {
   "cell_type": "code",
   "execution_count": null,
   "id": "578d2d6b",
   "metadata": {},
   "outputs": [],
   "source": []
  }
 ],
 "metadata": {
  "kernelspec": {
   "display_name": "Python 3 (ipykernel)",
   "language": "python",
   "name": "python3"
  },
  "language_info": {
   "codemirror_mode": {
    "name": "ipython",
    "version": 3
   },
   "file_extension": ".py",
   "mimetype": "text/x-python",
   "name": "python",
   "nbconvert_exporter": "python",
   "pygments_lexer": "ipython3",
   "version": "3.9.12"
  }
 },
 "nbformat": 4,
 "nbformat_minor": 5
}
